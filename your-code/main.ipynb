{
 "cells": [
  {
   "cell_type": "markdown",
   "metadata": {},
   "source": [
    "# Lab | Numpy Deep Dive"
   ]
  },
  {
   "cell_type": "markdown",
   "metadata": {},
   "source": [
    "### 1. Import the NUMPY package under the name np.\n"
   ]
  },
  {
   "cell_type": "code",
   "execution_count": 1,
   "metadata": {},
   "outputs": [],
   "source": [
    "import numpy as np"
   ]
  },
  {
   "cell_type": "markdown",
   "metadata": {},
   "source": [
    "\n",
    "\n",
    "### 2. Print the NUMPY version and the configuration.\n"
   ]
  },
  {
   "cell_type": "code",
   "execution_count": null,
   "metadata": {},
   "outputs": [],
   "source": [
    "print(np.__version__, np.__config__)"
   ]
  },
  {
   "cell_type": "markdown",
   "metadata": {},
   "source": [
    "### 3. Generate a 2x3x5 3-dimensional array with random values. Assign the array to variable \"a\"\n",
    "Challenge: there are at least three easy ways that use numpy to generate random arrays. How many ways can you find?\n"
   ]
  },
  {
   "cell_type": "code",
   "execution_count": 6,
   "metadata": {},
   "outputs": [],
   "source": [
    "# Method 1:\n",
    "a1 = np.random.rand(2, 3, 5)\n",
    "\n",
    "# Method 2:\n",
    "a2 = np.random.random((2, 3, 5))\n",
    "\n",
    "# Method 3:\n",
    "a3 = np.random.randn(2, 3, 5)"
   ]
  },
  {
   "cell_type": "markdown",
   "metadata": {},
   "source": [
    "\n",
    "### 4. Print a.\n"
   ]
  },
  {
   "cell_type": "code",
   "execution_count": 7,
   "metadata": {},
   "outputs": [
    {
     "data": {
      "text/plain": [
       "(array([[[0.42845721, 0.23318462, 0.00518833, 0.47647204, 0.11090869],\n",
       "         [0.24349679, 0.22961122, 0.06320084, 0.42844096, 0.81634873],\n",
       "         [0.48603633, 0.03340404, 0.10643201, 0.70721811, 0.27740242]],\n",
       " \n",
       "        [[0.86211391, 0.00412022, 0.76298317, 0.87051945, 0.02470028],\n",
       "         [0.32859584, 0.26672522, 0.86138667, 0.15447437, 0.69166924],\n",
       "         [0.51765325, 0.3553373 , 0.64388275, 0.35312064, 0.38478098]]]),\n",
       " array([[[0.63629511, 0.29020814, 0.37203816, 0.76535906, 0.0129871 ],\n",
       "         [0.68492007, 0.47498809, 0.09824865, 0.97633485, 0.85506972],\n",
       "         [0.92170279, 0.78756084, 0.09185735, 0.77797717, 0.11051886]],\n",
       " \n",
       "        [[0.50860893, 0.13764774, 0.40254126, 0.24041891, 0.06449602],\n",
       "         [0.0879415 , 0.66870643, 0.22672407, 0.42360929, 0.0172454 ],\n",
       "         [0.85280732, 0.58854633, 0.3098321 , 0.78464827, 0.04858068]]]),\n",
       " array([[[ 0.31194607, -0.67489783,  0.72928605, -2.12265714,\n",
       "           0.52809344],\n",
       "         [-0.17277196,  0.44097181,  0.07274452,  0.17871326,\n",
       "          -0.28562722],\n",
       "         [ 0.23143792,  1.00802747,  0.34427382,  0.19577558,\n",
       "          -0.07569139]],\n",
       " \n",
       "        [[ 0.25292513, -0.8966645 , -1.22599908,  0.52411268,\n",
       "           0.46138959],\n",
       "         [ 0.00705598, -2.32480373,  0.02431341,  0.45888546,\n",
       "          -0.21933554],\n",
       "         [ 1.02274115, -2.83497508, -1.54835362,  1.05827421,\n",
       "          -1.2811515 ]]]))"
      ]
     },
     "execution_count": 7,
     "metadata": {},
     "output_type": "execute_result"
    }
   ],
   "source": [
    "a1, a2, a3"
   ]
  },
  {
   "cell_type": "markdown",
   "metadata": {},
   "source": [
    "### 5. Create a 5x2x3 3-dimensional array with all values equaling 1.\n",
    "### Assign the array to variable \"b\"\n"
   ]
  },
  {
   "cell_type": "code",
   "execution_count": 8,
   "metadata": {},
   "outputs": [],
   "source": [
    "b = np.ones((5, 2, 3))"
   ]
  },
  {
   "cell_type": "markdown",
   "metadata": {},
   "source": [
    "\n",
    "### 6. Print b.\n"
   ]
  },
  {
   "cell_type": "code",
   "execution_count": 9,
   "metadata": {},
   "outputs": [
    {
     "data": {
      "text/plain": [
       "array([[[1., 1., 1.],\n",
       "        [1., 1., 1.]],\n",
       "\n",
       "       [[1., 1., 1.],\n",
       "        [1., 1., 1.]],\n",
       "\n",
       "       [[1., 1., 1.],\n",
       "        [1., 1., 1.]],\n",
       "\n",
       "       [[1., 1., 1.],\n",
       "        [1., 1., 1.]],\n",
       "\n",
       "       [[1., 1., 1.],\n",
       "        [1., 1., 1.]]])"
      ]
     },
     "execution_count": 9,
     "metadata": {},
     "output_type": "execute_result"
    }
   ],
   "source": [
    "b"
   ]
  },
  {
   "cell_type": "markdown",
   "metadata": {},
   "source": [
    "\n",
    "### 7. Do a and b have the same size? How do you prove that in Python code?\n"
   ]
  },
  {
   "cell_type": "code",
   "execution_count": 10,
   "metadata": {},
   "outputs": [
    {
     "data": {
      "text/plain": [
       "True"
      ]
     },
     "execution_count": 10,
     "metadata": {},
     "output_type": "execute_result"
    }
   ],
   "source": [
    "a1.size == b.size"
   ]
  },
  {
   "cell_type": "markdown",
   "metadata": {},
   "source": [
    "\n",
    "### 8. Are you able to add a and b? Why or why not?\n"
   ]
  },
  {
   "cell_type": "code",
   "execution_count": 11,
   "metadata": {},
   "outputs": [
    {
     "ename": "ValueError",
     "evalue": "operands could not be broadcast together with shapes (2,3,5) (5,2,3) ",
     "output_type": "error",
     "traceback": [
      "\u001b[1;31m---------------------------------------------------------------------------\u001b[0m",
      "\u001b[1;31mValueError\u001b[0m                                Traceback (most recent call last)",
      "Cell \u001b[1;32mIn[11], line 4\u001b[0m\n\u001b[0;32m      1\u001b[0m \u001b[38;5;66;03m# You cannot add them directly, since they have different shapes. \u001b[39;00m\n\u001b[0;32m      2\u001b[0m \u001b[38;5;66;03m# If you try to add them, it will give you a ValueError:\u001b[39;00m\n\u001b[1;32m----> 4\u001b[0m \u001b[43ma1\u001b[49m\u001b[43m \u001b[49m\u001b[38;5;241;43m+\u001b[39;49m\u001b[43m \u001b[49m\u001b[43mb\u001b[49m\n",
      "\u001b[1;31mValueError\u001b[0m: operands could not be broadcast together with shapes (2,3,5) (5,2,3) "
     ]
    }
   ],
   "source": [
    "# You cannot add them directly, since they have different shapes. \n",
    "# If you try to add them, it will give you a ValueError:\n",
    "\n",
    "a1 + b"
   ]
  },
  {
   "cell_type": "markdown",
   "metadata": {},
   "source": [
    "\n",
    "\n",
    "### 9. Transpose b so that it has the same structure of a (i.e. become a 2x3x5 array). Assign the transposed array to varialbe \"c\".\n"
   ]
  },
  {
   "cell_type": "code",
   "execution_count": 12,
   "metadata": {},
   "outputs": [
    {
     "data": {
      "text/plain": [
       "(2, 3, 5)"
      ]
     },
     "execution_count": 12,
     "metadata": {},
     "output_type": "execute_result"
    }
   ],
   "source": [
    "c = b.transpose(1, 2, 0)\n",
    "c.shape"
   ]
  },
  {
   "cell_type": "markdown",
   "metadata": {},
   "source": [
    "\n",
    "### 10. Try to add a and c. Now it should work. Assign the sum to variable \"d\". But why does it work now?\n"
   ]
  },
  {
   "cell_type": "code",
   "execution_count": 14,
   "metadata": {},
   "outputs": [
    {
     "data": {
      "text/plain": [
       "array([[[1.42845721, 1.23318462, 1.00518833, 1.47647204, 1.11090869],\n",
       "        [1.24349679, 1.22961122, 1.06320084, 1.42844096, 1.81634873],\n",
       "        [1.48603633, 1.03340404, 1.10643201, 1.70721811, 1.27740242]],\n",
       "\n",
       "       [[1.86211391, 1.00412022, 1.76298317, 1.87051945, 1.02470028],\n",
       "        [1.32859584, 1.26672522, 1.86138667, 1.15447437, 1.69166924],\n",
       "        [1.51765325, 1.3553373 , 1.64388275, 1.35312064, 1.38478098]]])"
      ]
     },
     "execution_count": 14,
     "metadata": {},
     "output_type": "execute_result"
    }
   ],
   "source": [
    "# It works now because both arrays have the same shape\n",
    "\n",
    "d = a1 + c\n",
    "d"
   ]
  },
  {
   "cell_type": "markdown",
   "metadata": {},
   "source": [
    "\n",
    "### 11. Print a and d. Notice the difference and relation of the two array in terms of the values? Explain.\n"
   ]
  },
  {
   "cell_type": "code",
   "execution_count": 16,
   "metadata": {},
   "outputs": [
    {
     "data": {
      "text/plain": [
       "(array([[[0.42845721, 0.23318462, 0.00518833, 0.47647204, 0.11090869],\n",
       "         [0.24349679, 0.22961122, 0.06320084, 0.42844096, 0.81634873],\n",
       "         [0.48603633, 0.03340404, 0.10643201, 0.70721811, 0.27740242]],\n",
       " \n",
       "        [[0.86211391, 0.00412022, 0.76298317, 0.87051945, 0.02470028],\n",
       "         [0.32859584, 0.26672522, 0.86138667, 0.15447437, 0.69166924],\n",
       "         [0.51765325, 0.3553373 , 0.64388275, 0.35312064, 0.38478098]]]),\n",
       " array([[[1.42845721, 1.23318462, 1.00518833, 1.47647204, 1.11090869],\n",
       "         [1.24349679, 1.22961122, 1.06320084, 1.42844096, 1.81634873],\n",
       "         [1.48603633, 1.03340404, 1.10643201, 1.70721811, 1.27740242]],\n",
       " \n",
       "        [[1.86211391, 1.00412022, 1.76298317, 1.87051945, 1.02470028],\n",
       "         [1.32859584, 1.26672522, 1.86138667, 1.15447437, 1.69166924],\n",
       "         [1.51765325, 1.3553373 , 1.64388275, 1.35312064, 1.38478098]]]))"
      ]
     },
     "execution_count": 16,
     "metadata": {},
     "output_type": "execute_result"
    }
   ],
   "source": [
    "a1, d\n",
    "\n",
    "# The values in d are 1 bigger than the values in a1. This is because d = a1 + c and the values in c are all 1."
   ]
  },
  {
   "cell_type": "markdown",
   "metadata": {},
   "source": [
    "\n",
    "### 12. Multiply a and c. Assign the result to e.\n"
   ]
  },
  {
   "cell_type": "code",
   "execution_count": 19,
   "metadata": {},
   "outputs": [
    {
     "data": {
      "text/plain": [
       "array([[[0.42845721, 0.23318462, 0.00518833, 0.47647204, 0.11090869],\n",
       "        [0.24349679, 0.22961122, 0.06320084, 0.42844096, 0.81634873],\n",
       "        [0.48603633, 0.03340404, 0.10643201, 0.70721811, 0.27740242]],\n",
       "\n",
       "       [[0.86211391, 0.00412022, 0.76298317, 0.87051945, 0.02470028],\n",
       "        [0.32859584, 0.26672522, 0.86138667, 0.15447437, 0.69166924],\n",
       "        [0.51765325, 0.3553373 , 0.64388275, 0.35312064, 0.38478098]]])"
      ]
     },
     "execution_count": 19,
     "metadata": {},
     "output_type": "execute_result"
    }
   ],
   "source": [
    "e = a1 * c\n",
    "e"
   ]
  },
  {
   "cell_type": "markdown",
   "metadata": {},
   "source": [
    "\n",
    "\n",
    "### 13. Does e equal to a? Why or why not?\n"
   ]
  },
  {
   "cell_type": "code",
   "execution_count": 20,
   "metadata": {},
   "outputs": [
    {
     "data": {
      "text/plain": [
       "array([[[ True,  True,  True,  True,  True],\n",
       "        [ True,  True,  True,  True,  True],\n",
       "        [ True,  True,  True,  True,  True]],\n",
       "\n",
       "       [[ True,  True,  True,  True,  True],\n",
       "        [ True,  True,  True,  True,  True],\n",
       "        [ True,  True,  True,  True,  True]]])"
      ]
     },
     "execution_count": 20,
     "metadata": {},
     "output_type": "execute_result"
    }
   ],
   "source": [
    "# True, because c = 1.\n",
    "\n",
    "e == a1"
   ]
  },
  {
   "cell_type": "markdown",
   "metadata": {},
   "source": [
    "\n",
    "\n",
    "### 14. Identify the max, min, and mean values in d. Assign those values to variables \"d_max\", \"d_min\", and \"d_mean\"\n"
   ]
  },
  {
   "cell_type": "code",
   "execution_count": 23,
   "metadata": {},
   "outputs": [
    {
     "data": {
      "text/plain": [
       "(np.float64(1.8705194463541404),\n",
       " np.float64(1.0041202210671571),\n",
       " np.float64(1.390928854865696))"
      ]
     },
     "execution_count": 23,
     "metadata": {},
     "output_type": "execute_result"
    }
   ],
   "source": [
    "d_max = d.max()\n",
    "d_min = d.min()\n",
    "d_mean = d.mean()\n",
    "d_max, d_min, d_mean"
   ]
  },
  {
   "cell_type": "markdown",
   "metadata": {},
   "source": [
    "\n",
    "### 15. Now we want to label the values in d. First create an empty array \"f\" with the same shape (i.e. 2x3x5) as d using `np.empty`.\n"
   ]
  },
  {
   "cell_type": "code",
   "execution_count": 25,
   "metadata": {},
   "outputs": [],
   "source": [
    "f = np.empty((2, 3, 5))"
   ]
  },
  {
   "cell_type": "markdown",
   "metadata": {},
   "source": [
    "\n",
    "\n",
    "\n",
    "### 16. Populate the values in f. For each value in d, if it's larger than d_min but smaller than d_mean, assign 25 to the corresponding value in f.\n",
    "If a value in d is larger than d_mean but smaller than d_max, assign 75 to the corresponding value in f.\n",
    "If a value equals to d_mean, assign 50 to the corresponding value in f.\n",
    "Assign 0 to the corresponding value(s) in f for d_min in d.\n",
    "Assign 100 to the corresponding value(s) in f for d_max in d.\n",
    "In the end, f should have only the following values: 0, 25, 50, 75, and 100.\n",
    "Note: you don't have to use Numpy in this question.\n",
    "\n"
   ]
  },
  {
   "cell_type": "code",
   "execution_count": 27,
   "metadata": {},
   "outputs": [],
   "source": [
    "f[d == d_min] = 0\n",
    "f[(d > d_min) & (d < d_mean)] = 25\n",
    "f[d == d_mean] = 50\n",
    "f[(d > d_mean) & (d < d_max)] = 75\n",
    "f[d == d_max] = 100"
   ]
  },
  {
   "cell_type": "markdown",
   "metadata": {},
   "source": [
    "\n",
    "\n",
    "\n",
    "\n",
    "### 17. Print d and f. Do you have your expected f?\n",
    "For instance, if your d is:\n",
    "array([[[1.85836099, 1.67064465, 1.62576044, 1.40243961, 1.88454931],\n",
    "        [1.75354326, 1.69403643, 1.36729252, 1.61415071, 1.12104981],\n",
    "        [1.72201435, 1.1862918 , 1.87078449, 1.7726778 , 1.88180042]],\n",
    "\n",
    "       [[1.44747908, 1.31673383, 1.02000951, 1.52218947, 1.97066381],\n",
    "        [1.79129243, 1.74983003, 1.96028037, 1.85166831, 1.65450881],\n",
    "        [1.18068344, 1.9587381 , 1.00656599, 1.93402165, 1.73514584]]])\n",
    "\n",
    "Your f should be:\n",
    "array([[[ 75.,  75.,  75.,  25.,  75.],\n",
    "        [ 75.,  75.,  25.,  25.,  25.],\n",
    "        [ 75.,  25.,  75.,  75.,  75.]],\n",
    "\n",
    "       [[ 25.,  25.,  25.,  25., 100.],\n",
    "        [ 75.,  75.,  75.,  75.,  75.],\n",
    "        [ 25.,  75.,   0.,  75.,  75.]]])\n",
    "\n"
   ]
  },
  {
   "cell_type": "code",
   "execution_count": 33,
   "metadata": {},
   "outputs": [
    {
     "data": {
      "text/plain": [
       "(array([[[1.42845721, 1.23318462, 1.00518833, 1.47647204, 1.11090869],\n",
       "         [1.24349679, 1.22961122, 1.06320084, 1.42844096, 1.81634873],\n",
       "         [1.48603633, 1.03340404, 1.10643201, 1.70721811, 1.27740242]],\n",
       " \n",
       "        [[1.86211391, 1.00412022, 1.76298317, 1.87051945, 1.02470028],\n",
       "         [1.32859584, 1.26672522, 1.86138667, 1.15447437, 1.69166924],\n",
       "         [1.51765325, 1.3553373 , 1.64388275, 1.35312064, 1.38478098]]]),\n",
       " array([[[ 75.,  25.,  25.,  75.,  25.],\n",
       "         [ 25.,  25.,  25.,  75.,  75.],\n",
       "         [ 75.,  25.,  25.,  75.,  25.]],\n",
       " \n",
       "        [[ 75.,   0.,  75., 100.,  25.],\n",
       "         [ 25.,  25.,  75.,  25.,  75.],\n",
       "         [ 75.,  25.,  75.,  25.,  25.]]]))"
      ]
     },
     "execution_count": 33,
     "metadata": {},
     "output_type": "execute_result"
    }
   ],
   "source": [
    "d, f"
   ]
  },
  {
   "cell_type": "markdown",
   "metadata": {},
   "source": [
    "### 18. Bonus question: instead of using numbers (i.e. 0, 25, 50, 75, and 100), how to use string values \n",
    "(\"A\", \"B\", \"C\", \"D\", and \"E\") to label the array elements? You are expecting the result to be:\n",
    "array([[[ 'D',  'D',  'D',  'B',  'D'],\n",
    "        [ 'D',  'D',  'B',  'B',  'B'],\n",
    "        [ 'D',  'B',  'D',  'D',  'D']],\n",
    "\n",
    "       [[ 'B',  'B',  'B',  'B',  'E'],\n",
    "        [ 'D',  'D',  'D',  'D',  'D'],\n",
    "        [ 'B',  'D',   'A',  'D', 'D']]])\n",
    "Again, you don't need Numpy in this question."
   ]
  },
  {
   "cell_type": "code",
   "execution_count": 34,
   "metadata": {},
   "outputs": [
    {
     "data": {
      "text/plain": [
       "array([[['D', 'B', 'B', 'D', 'B'],\n",
       "        ['B', 'B', 'B', 'D', 'D'],\n",
       "        ['D', 'B', 'B', 'D', 'B']],\n",
       "\n",
       "       [['D', 'A', 'D', 'E', 'B'],\n",
       "        ['B', 'B', 'D', 'B', 'D'],\n",
       "        ['D', 'B', 'D', 'B', 'B']]], dtype=object)"
      ]
     },
     "execution_count": 34,
     "metadata": {},
     "output_type": "execute_result"
    }
   ],
   "source": [
    "f = f.astype(object)\n",
    "\n",
    "f[d == d_min] = 'A'\n",
    "f[(d > d_min) & (d < d_mean)] = 'B'\n",
    "f[d == d_mean] = 'C'\n",
    "f[(d > d_mean) & (d < d_max)] = 'D'\n",
    "f[d == d_max] = 'E'\n",
    "f"
   ]
  }
 ],
 "metadata": {
  "kernelspec": {
   "display_name": ".venv",
   "language": "python",
   "name": "python3"
  },
  "language_info": {
   "codemirror_mode": {
    "name": "ipython",
    "version": 3
   },
   "file_extension": ".py",
   "mimetype": "text/x-python",
   "name": "python",
   "nbconvert_exporter": "python",
   "pygments_lexer": "ipython3",
   "version": "3.12.2"
  }
 },
 "nbformat": 4,
 "nbformat_minor": 2
}
